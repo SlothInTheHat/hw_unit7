{
 "cells": [
  {
   "cell_type": "markdown",
   "metadata": {},
   "source": [
    "# Popcorn Hack 1"
   ]
  },
  {
   "cell_type": "code",
   "execution_count": 1,
   "metadata": {
    "vscode": {
     "languageId": "java"
    }
   },
   "outputs": [
    {
     "name": "stdout",
     "output_type": "stream",
     "text": [
      "5\n",
      "[Apple, Grape, Cherry, Guava, Elderberry, Fig]\n"
     ]
    }
   ],
   "source": [
    "import java.util.ArrayList;\n",
    "ArrayList<String> a2 = new ArrayList<>();\n",
    "a2.add(\"Apple\");\n",
    "a2.add(\"Banana\");\n",
    "a2.add(\"Cherry\");\n",
    "a2.add(\"Date\");\n",
    "a2.add(\"Elderberry\");\n",
    "\n",
    "System.out.println(a2.size());\n",
    "a2.add(\"Fig\");\n",
    "a2.add(2, \"Grape\");\n",
    "a2.set(4, \"Guava\");\n",
    "a2.remove(1);\n",
    "a2.get(3);\n",
    "\n",
    "System.out.println(a2);"
   ]
  },
  {
   "cell_type": "markdown",
   "metadata": {},
   "source": [
    "# Popcorn Hack 2"
   ]
  },
  {
   "cell_type": "code",
   "execution_count": 6,
   "metadata": {
    "vscode": {
     "languageId": "java"
    }
   },
   "outputs": [
    {
     "name": "stdout",
     "output_type": "stream",
     "text": [
      "19\n"
     ]
    }
   ],
   "source": [
    "public class ArrayListHacks {\n",
    "    private int findSum(ArrayList<Integer> values) {\n",
    "        // Your code here\n",
    "        int sum = 0;\n",
    "        for (int i = 0; i < values.size(); i++){\n",
    "            sum += values.get(i);\n",
    "        }\n",
    "        \n",
    "        return sum;\n",
    "    }\n",
    "\n",
    "    public static void main(String[] args) {\n",
    "        ArrayList<Integer> nums = new ArrayList<>();\n",
    "        nums.add(0);\n",
    "        nums.add(1);\n",
    "        nums.add(2);\n",
    "        nums.add(3);\n",
    "        nums.add(5);\n",
    "        nums.add(8);\n",
    "\n",
    "        ArrayListHacks hacks = new ArrayListHacks();\n",
    "        System.out.println(hacks.findSum(nums));\n",
    "    }\n",
    "}\n",
    "\n",
    "ArrayListHacks.main(null);"
   ]
  },
  {
   "cell_type": "markdown",
   "metadata": {},
   "source": [
    "List<Integer> list1 = new ArrayList<Integer>();\n",
    "list1.add(new Integer(1));\n",
    "list1.add(new Integer(2));\n",
    "list1.add(new Integer(3));\n",
    "list1.remove(1);\n",
    "\n",
    "A. [2, 3]\n",
    "\n",
    "B. [1, 2, 3]\n",
    "\n",
    "C. [1, 2]\n",
    "\n",
    "D. [1, 3]\n",
    "\n",
    "Answer D"
   ]
  },
  {
   "cell_type": "markdown",
   "metadata": {},
   "source": []
  },
  {
   "cell_type": "markdown",
   "metadata": {},
   "source": [
    "List<Integer> numList = new ArrayList<Integer>();\n",
    "numList.add(new Integer(1));\n",
    "numList.add(new Integer(2));\n",
    "numList.add(new Integer(3));\n",
    "numList.set(2,new Integer(4));\n",
    "numList.add(1, new Integer(5));\n",
    "numList.add(new Integer(6));\n",
    "A. [1, 2, 3, 4, 5]\n",
    "\n",
    "B. [1, 2, 4, 5, 6]\n",
    "\n",
    "C. [1, 2, 5, 4, 6]\n",
    "\n",
    "D. [1, 5, 2, 4, 6]\n",
    "\n",
    "Answer D"
   ]
  },
  {
   "cell_type": "markdown",
   "metadata": {},
   "source": [
    "# This hack again"
   ]
  },
  {
   "cell_type": "code",
   "execution_count": 9,
   "metadata": {
    "vscode": {
     "languageId": "java"
    }
   },
   "outputs": [
    {
     "name": "stdout",
     "output_type": "stream",
     "text": [
      "19\n"
     ]
    }
   ],
   "source": [
    "public class ArrayListHacks {\n",
    "    private int findSum(ArrayList<Integer> values) {\n",
    "        // Your code here\n",
    "        int sum = 0;\n",
    "        for (int i = 0; i < values.size(); i++){\n",
    "            sum += values.get(i);\n",
    "        }\n",
    "        \n",
    "        return sum;\n",
    "    }\n",
    "\n",
    "    public static void main(String[] args) {\n",
    "        ArrayList<Integer> nums = new ArrayList<>();\n",
    "        nums.add(0);\n",
    "        nums.add(1);\n",
    "        nums.add(2);\n",
    "        nums.add(3);\n",
    "        nums.add(5);\n",
    "        nums.add(8);\n",
    "\n",
    "        ArrayListHacks hacks = new ArrayListHacks();\n",
    "        System.out.println(hacks.findSum(nums));\n",
    "    }\n",
    "}\n",
    "\n",
    "ArrayListHacks.main(null);"
   ]
  },
  {
   "cell_type": "markdown",
   "metadata": {
    "vscode": {
     "languageId": "java"
    }
   },
   "source": [
    "# Popcorn Hack 6"
   ]
  },
  {
   "cell_type": "code",
   "execution_count": 19,
   "metadata": {
    "vscode": {
     "languageId": "java"
    }
   },
   "outputs": [
    {
     "name": "stdout",
     "output_type": "stream",
     "text": [
      "Duck D (1.9 kg)\n",
      "Duck B (2.1 kg)\n",
      "Duck A (4.5 kg)\n",
      "Duck C (5.0 kg)\n"
     ]
    }
   ],
   "source": [
    "import java.util.ArrayList;\n",
    "import java.util.List;\n",
    "\n",
    "class DebugDuck implements Comparable<DebugDuck> {\n",
    "    String name;\n",
    "    double weight;\n",
    "\n",
    "    public DebugDuck(String name, double weight) {\n",
    "        this.name = name;\n",
    "        this.weight = weight;\n",
    "    }\n",
    "\n",
    "    public int compareTo(DebugDuck other) {\n",
    "        return Double.compare(this.weight, other.weight);\n",
    "    }\n",
    "\n",
    "    public String toString() {\n",
    "        return name + \" (\" + weight + \" kg)\";\n",
    "    }\n",
    "\n",
    "    public static void selectionSort(List<DebugDuck> ducks) {\n",
    "        int n = ducks.size();\n",
    "        for (int i = 0; i < n - 1; i++) {\n",
    "            int minIndex = i;\n",
    "            for (int j = i + 1; j < n; j++) {\n",
    "                if (ducks.get(j).weight < ducks.get(minIndex).weight) {\n",
    "                    minIndex = j;\n",
    "                }\n",
    "            }\n",
    "            DebugDuck temp = ducks.get(minIndex);\n",
    "            ducks.set(minIndex, ducks.get(i));\n",
    "            ducks.set(i, temp);\n",
    "        }\n",
    "    }\n",
    "}\n",
    "\n",
    "public class DuckSorter {\n",
    "    public static void main(String[] args) {\n",
    "        List<DebugDuck> ducks = new ArrayList<>();\n",
    "        ducks.add(new DebugDuck(\"Duck A\", 4.5));\n",
    "        ducks.add(new DebugDuck(\"Duck B\", 2.1));\n",
    "        ducks.add(new DebugDuck(\"Duck C\", 5.0));\n",
    "        ducks.add(new DebugDuck(\"Duck D\", 1.9));\n",
    "\n",
    "\n",
    "        DebugDuck.selectionSort(ducks);\n",
    "\n",
    "\n",
    "        for (DebugDuck duck : ducks) {\n",
    "            System.out.println(duck);\n",
    "        }\n",
    "    }\n",
    "}\n",
    "\n",
    "DuckSorter.main(null);"
   ]
  },
  {
   "cell_type": "markdown",
   "metadata": {},
   "source": [
    "# Ethics Hack"
   ]
  },
  {
   "cell_type": "code",
   "execution_count": 3,
   "metadata": {
    "vscode": {
     "languageId": "java"
    }
   },
   "outputs": [],
   "source": [
    "ArrayList<String> userData = new ArrayList<>();\n",
    "userData.add(\"John Doe\");\n",
    "userData.add(\"john@example.com\");\n",
    "\n",
    "userData.clear(); \n",
    "userData = null; "
   ]
  },
  {
   "cell_type": "markdown",
   "metadata": {},
   "source": [
    "# Homework Hacks"
   ]
  },
  {
   "cell_type": "code",
   "execution_count": 10,
   "metadata": {
    "vscode": {
     "languageId": "java"
    }
   },
   "outputs": [
    {
     "name": "stdout",
     "output_type": "stream",
     "text": [
      "false\n",
      "5\n",
      "1\n",
      "2\n",
      "1\n",
      "[1, 1, 2, 5]\n"
     ]
    }
   ],
   "source": [
    "import java.util.ArrayList;\n",
    "import java.util.List;\n",
    "\n",
    "List<Integer> nums = new ArrayList<>();\n",
    "nums.add(5);\n",
    "nums.add(4);\n",
    "nums.add(3);\n",
    "nums.add(2);\n",
    "nums.add(1);\n",
    "nums.set(1, 1);\n",
    "nums.remove(2);\n",
    "System.out.println(nums.contains(30));\n",
    "for (int i = 0; i < nums.size(); i++){\n",
    "        System.out.println(nums.get(i));\n",
    "}\n",
    "Collections.sort(nums);\n",
    "System.out.println(nums);"
   ]
  }
 ],
 "metadata": {
  "kernelspec": {
   "display_name": "Java",
   "language": "java",
   "name": "java"
  },
  "language_info": {
   "codemirror_mode": "java",
   "file_extension": ".jshell",
   "mimetype": "text/x-java-source",
   "name": "Java",
   "pygments_lexer": "java",
   "version": "11.0.24+8-post-Ubuntu-1ubuntu322.04"
  }
 },
 "nbformat": 4,
 "nbformat_minor": 2
}
